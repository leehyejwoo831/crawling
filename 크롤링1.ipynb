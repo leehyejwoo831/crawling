{
 "cells": [
  {
   "cell_type": "code",
   "execution_count": 37,
   "metadata": {},
   "outputs": [],
   "source": [
    "from bs4 import BeautifulSoup\n",
    "import pandas as pd \n",
    "import numpy as np "
   ]
  },
  {
   "cell_type": "code",
   "execution_count": 38,
   "metadata": {},
   "outputs": [],
   "source": [
    "import urllib.request"
   ]
  },
  {
   "cell_type": "code",
   "execution_count": 39,
   "metadata": {},
   "outputs": [],
   "source": [
    "result = []"
   ]
  },
  {
   "cell_type": "code",
   "execution_count": 49,
   "metadata": {},
   "outputs": [],
   "source": [
    "for page in range(1,52):\n",
    "    hollys_url = 'https://www.hollys.co.kr/store/korea/korStore2.do?pageNo=%d&sido=&gugun=&store=' % page\n",
    "#    print(hollys_url)\n",
    "    html = urllib.request.urlopen(hollys_url)\n",
    "    soupHollys = BeautifulSoup(html, 'html.parser')\n",
    "    tag_tbody = soupHollys.find('tbody')\n",
    "    for store in tag_tbody.find_all('tr'):\n",
    "        if len(store) <= 3:\n",
    "            break\n",
    "        store_td = store.find_all('td')\n",
    "        store_name = store_td[1].string\n",
    "        store_sido = store_td[0].string\n",
    "        store_address = store_td[3].string\n",
    "        store_phone = store_td[5].string\n",
    "        \n",
    "        result.append([store_name]+[store_sido]+[store_address]+[store_phone])\n",
    "        \n",
    "        "
   ]
  },
  {
   "cell_type": "code",
   "execution_count": 41,
   "metadata": {},
   "outputs": [
    {
     "data": {
      "text/plain": [
       "[['부산사상광장점',\n",
       "  '부산 사상구',\n",
       "  '부산광역시 사상구 광장로 22 (괘법동) 2층 사상구 괘법동 565-2',\n",
       "  '051-322-4117'],\n",
       " ['부산사상광장점',\n",
       "  '부산 사상구',\n",
       "  '부산광역시 사상구 광장로 22 (괘법동) 2층 사상구 괘법동 565-2',\n",
       "  '051-322-4117'],\n",
       " ['부산사상광장점',\n",
       "  '부산 사상구',\n",
       "  '부산광역시 사상구 광장로 22 (괘법동) 2층 사상구 괘법동 565-2',\n",
       "  '051-322-4117'],\n",
       " ['부산사상광장점',\n",
       "  '부산 사상구',\n",
       "  '부산광역시 사상구 광장로 22 (괘법동) 2층 사상구 괘법동 565-2',\n",
       "  '051-322-4117'],\n",
       " ['부산사상광장점',\n",
       "  '부산 사상구',\n",
       "  '부산광역시 사상구 광장로 22 (괘법동) 2층 사상구 괘법동 565-2',\n",
       "  '051-322-4117']]"
      ]
     },
     "execution_count": 41,
     "metadata": {},
     "output_type": "execute_result"
    }
   ],
   "source": [
    "result[:5]"
   ]
  },
  {
   "cell_type": "code",
   "execution_count": 42,
   "metadata": {},
   "outputs": [
    {
     "data": {
      "text/plain": [
       "504"
      ]
     },
     "execution_count": 42,
     "metadata": {},
     "output_type": "execute_result"
    }
   ],
   "source": [
    "len(result)"
   ]
  },
  {
   "cell_type": "code",
   "execution_count": 43,
   "metadata": {},
   "outputs": [
    {
     "data": {
      "text/plain": [
       "['부산사상광장점',\n",
       " '부산 사상구',\n",
       " '부산광역시 사상구 광장로 22 (괘법동) 2층 사상구 괘법동 565-2',\n",
       " '051-322-4117']"
      ]
     },
     "execution_count": 43,
     "metadata": {},
     "output_type": "execute_result"
    }
   ],
   "source": [
    "result[0]"
   ]
  },
  {
   "cell_type": "code",
   "execution_count": null,
   "metadata": {},
   "outputs": [],
   "source": [
    "store_td"
   ]
  },
  {
   "cell_type": "code",
   "execution_count": 45,
   "metadata": {},
   "outputs": [
    {
     "data": {
      "text/plain": [
       "<td class=\"noline center_t\">부산 해운대구</td>"
      ]
     },
     "execution_count": 45,
     "metadata": {},
     "output_type": "execute_result"
    }
   ],
   "source": [
    "store_td[0]"
   ]
  },
  {
   "cell_type": "code",
   "execution_count": 46,
   "metadata": {},
   "outputs": [],
   "source": [
    "holly_tbl = pd.DataFrame(result, columns=('store', 'sido-gu', 'address', 'phone'))"
   ]
  },
  {
   "cell_type": "code",
   "execution_count": 47,
   "metadata": {},
   "outputs": [
    {
     "data": {
      "text/html": [
       "<div>\n",
       "<style scoped>\n",
       "    .dataframe tbody tr th:only-of-type {\n",
       "        vertical-align: middle;\n",
       "    }\n",
       "\n",
       "    .dataframe tbody tr th {\n",
       "        vertical-align: top;\n",
       "    }\n",
       "\n",
       "    .dataframe thead th {\n",
       "        text-align: right;\n",
       "    }\n",
       "</style>\n",
       "<table border=\"1\" class=\"dataframe\">\n",
       "  <thead>\n",
       "    <tr style=\"text-align: right;\">\n",
       "      <th></th>\n",
       "      <th>store</th>\n",
       "      <th>sido-gu</th>\n",
       "      <th>address</th>\n",
       "      <th>phone</th>\n",
       "    </tr>\n",
       "  </thead>\n",
       "  <tbody>\n",
       "    <tr>\n",
       "      <th>0</th>\n",
       "      <td>부산사상광장점</td>\n",
       "      <td>부산 사상구</td>\n",
       "      <td>부산광역시 사상구 광장로 22 (괘법동) 2층 사상구 괘법동 565-2</td>\n",
       "      <td>051-322-4117</td>\n",
       "    </tr>\n",
       "    <tr>\n",
       "      <th>1</th>\n",
       "      <td>부산사상광장점</td>\n",
       "      <td>부산 사상구</td>\n",
       "      <td>부산광역시 사상구 광장로 22 (괘법동) 2층 사상구 괘법동 565-2</td>\n",
       "      <td>051-322-4117</td>\n",
       "    </tr>\n",
       "    <tr>\n",
       "      <th>2</th>\n",
       "      <td>부산사상광장점</td>\n",
       "      <td>부산 사상구</td>\n",
       "      <td>부산광역시 사상구 광장로 22 (괘법동) 2층 사상구 괘법동 565-2</td>\n",
       "      <td>051-322-4117</td>\n",
       "    </tr>\n",
       "    <tr>\n",
       "      <th>3</th>\n",
       "      <td>부산사상광장점</td>\n",
       "      <td>부산 사상구</td>\n",
       "      <td>부산광역시 사상구 광장로 22 (괘법동) 2층 사상구 괘법동 565-2</td>\n",
       "      <td>051-322-4117</td>\n",
       "    </tr>\n",
       "    <tr>\n",
       "      <th>4</th>\n",
       "      <td>부산사상광장점</td>\n",
       "      <td>부산 사상구</td>\n",
       "      <td>부산광역시 사상구 광장로 22 (괘법동) 2층 사상구 괘법동 565-2</td>\n",
       "      <td>051-322-4117</td>\n",
       "    </tr>\n",
       "  </tbody>\n",
       "</table>\n",
       "</div>"
      ],
      "text/plain": [
       "     store sido-gu                                  address         phone\n",
       "0  부산사상광장점  부산 사상구  부산광역시 사상구 광장로 22 (괘법동) 2층 사상구 괘법동 565-2  051-322-4117\n",
       "1  부산사상광장점  부산 사상구  부산광역시 사상구 광장로 22 (괘법동) 2층 사상구 괘법동 565-2  051-322-4117\n",
       "2  부산사상광장점  부산 사상구  부산광역시 사상구 광장로 22 (괘법동) 2층 사상구 괘법동 565-2  051-322-4117\n",
       "3  부산사상광장점  부산 사상구  부산광역시 사상구 광장로 22 (괘법동) 2층 사상구 괘법동 565-2  051-322-4117\n",
       "4  부산사상광장점  부산 사상구  부산광역시 사상구 광장로 22 (괘법동) 2층 사상구 괘법동 565-2  051-322-4117"
      ]
     },
     "execution_count": 47,
     "metadata": {},
     "output_type": "execute_result"
    }
   ],
   "source": [
    "holly_tbl.head()"
   ]
  },
  {
   "cell_type": "code",
   "execution_count": 48,
   "metadata": {},
   "outputs": [],
   "source": [
    "holly_tbl.to_csv('/Users/ihyeju/Desktop/머신러닝/크롤링/hollys_tbl.csv', index=True)"
   ]
  }
 ],
 "metadata": {
  "kernelspec": {
   "display_name": "base",
   "language": "python",
   "name": "python3"
  },
  "language_info": {
   "codemirror_mode": {
    "name": "ipython",
    "version": 3
   },
   "file_extension": ".py",
   "mimetype": "text/x-python",
   "name": "python",
   "nbconvert_exporter": "python",
   "pygments_lexer": "ipython3",
   "version": "3.11.5"
  }
 },
 "nbformat": 4,
 "nbformat_minor": 2
}
